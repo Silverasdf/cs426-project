{
 "cells": [
  {
   "cell_type": "markdown",
   "metadata": {},
   "source": [
    "# Concat csv's\n",
    "\n",
    "This is just meant to be a quick and dirty supplementary program, in case the program to populate the csv's fail. Just run it again with later dates and use this to append the data."
   ]
  },
  {
   "cell_type": "code",
   "execution_count": 3,
   "metadata": {},
   "outputs": [],
   "source": [
    "import pandas as pd\n",
    "import os\n"
   ]
  },
  {
   "cell_type": "code",
   "execution_count": 4,
   "metadata": {},
   "outputs": [
    {
     "name": "stdout",
     "output_type": "stream",
     "text": [
      "games-full-2.csv\n",
      "games-full.csv\n",
      "games-old-2.csv\n",
      "games-old-3.csv\n",
      "games-old.csv\n",
      "teams-full-2.csv\n",
      "teams-full.csv\n",
      "teams-old-2.csv\n",
      "teams-old-3.csv\n",
      "teams-old.csv\n",
      "players-full-2.csv\n",
      "players-full.csv\n",
      "players-old-2.csv\n",
      "players-old-3.csv\n",
      "players-old.csv\n",
      "player_game_stats-full-2.csv\n",
      "player_game_stats-full.csv\n",
      "player_game_stats-old-2.csv\n",
      "player_game_stats-old-3.csv\n",
      "player_game_stats-old-4.csv\n",
      "player_game_stats-old.csv\n"
     ]
    }
   ],
   "source": [
    "def concat_files(pattern, columns, dir = \".\"):\n",
    "    df = pd.DataFrame(columns=columns, dtype=str)\n",
    "\n",
    "    for file in os.listdir(dir):\n",
    "        if not file[:len(pattern)] == pattern:\n",
    "            continue\n",
    "        print(file)\n",
    "        #Concat the data\n",
    "        df = pd.concat([df,pd.read_csv(file, dtype=str, on_bad_lines=\"skip\", engine=\"python\")],ignore_index=True)\n",
    "\n",
    "    return df\n",
    "\n",
    "df_games = concat_files(\"game\",[\"game_id\",\"season_year\",\"game_date\",\"home_team_id\",\"away_team_id\"])\n",
    "df_games = df_games.drop_duplicates(subset=\"game_id\")\n",
    "df_games.to_csv(\"games-full-2.csv\",index=False)\n",
    "\n",
    "df_teams = concat_files(\"team\",[\"team_id\",\"season_year\",\"team_location\",\"team_name\",\"team_abbreviation\"])\n",
    "df_teams = df_teams.drop_duplicates(subset=[\"team_id\", \"season_year\"])\n",
    "df_teams.to_csv(\"teams-full-2.csv\",index=False)\n",
    "\n",
    "df_players = concat_files(\"players\",[\"player_id\",\"player_first_name\",\"player_last_name\"])\n",
    "df_players = df_players.drop_duplicates(subset=\"player_id\")\n",
    "df_players.to_csv(\"players-full-2.csv\",index=False)\n",
    "\n",
    "df_stats = concat_files(\"player_game\", [\"game_id\", \"player_id\", \"team_id\", \"player_game_stats\"])\n",
    "df_stats = df_stats.drop_duplicates(subset=[\"game_id\", \"player_id\"])\n",
    "df_stats.to_csv(\"player_game_stats-full-2.csv\",index=False)"
   ]
  }
 ],
 "metadata": {
  "kernelspec": {
   "display_name": "oracle",
   "language": "python",
   "name": "python3"
  },
  "language_info": {
   "codemirror_mode": {
    "name": "ipython",
    "version": 3
   },
   "file_extension": ".py",
   "mimetype": "text/x-python",
   "name": "python",
   "nbconvert_exporter": "python",
   "pygments_lexer": "ipython3",
   "version": "3.12.7"
  }
 },
 "nbformat": 4,
 "nbformat_minor": 2
}
