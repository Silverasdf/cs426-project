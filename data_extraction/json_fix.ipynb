{
 "cells": [
  {
   "cell_type": "code",
   "execution_count": 15,
   "metadata": {},
   "outputs": [
    {
     "data": {
      "application/vnd.microsoft.datawrangler.viewer.v0+json": {
       "columns": [
        {
         "name": "index",
         "rawType": "int64",
         "type": "integer"
        },
        {
         "name": "game_id",
         "rawType": "object",
         "type": "string"
        },
        {
         "name": "player_id",
         "rawType": "int64",
         "type": "integer"
        },
        {
         "name": "team_id",
         "rawType": "int64",
         "type": "integer"
        },
        {
         "name": "player_game_stats",
         "rawType": "object",
         "type": "string"
        }
       ],
       "conversionMethod": "pd.DataFrame",
       "ref": "807b3157-f1d8-4dec-89a4-061f824eac71",
       "rows": [
        [
         "0",
         "0021800001",
         "203967",
         "1610612755",
         "[{'MIN': '22.000000:54', 'FGM': 3.0, 'FGA': 8.0, 'FG_PCT': 0.375, 'FG3M': 0.0, 'FG3A': 4.0, 'FG3_PCT': 0.0, 'FTM': 0.0, 'FTA': 0.0, 'FT_PCT': 0.0, 'OREB': 0.0, 'DREB': 6.0, 'REB': 6.0, 'AST': 1.0, 'STL': 0.0, 'BLK': 0.0, 'TO': 3.0, 'PF': 5.0, 'PTS': 6.0, 'PLUS_MINUS': -4.0}]"
        ],
        [
         "1",
         "0021800001",
         "203496",
         "1610612755",
         "[{'MIN': '34.000000:13', 'FGM': 3.0, 'FGA': 10.0, 'FG_PCT': 0.3, 'FG3M': 2.0, 'FG3A': 7.0, 'FG3_PCT': 0.286, 'FTM': 0.0, 'FTA': 0.0, 'FT_PCT': 0.0, 'OREB': 1.0, 'DREB': 5.0, 'REB': 6.0, 'AST': 0.0, 'STL': 2.0, 'BLK': 1.0, 'TO': 2.0, 'PF': 1.0, 'PTS': 8.0, 'PLUS_MINUS': -11.0}]"
        ],
        [
         "2",
         "0021800001",
         "203954",
         "1610612755",
         "[{'MIN': '36.000000:49', 'FGM': 9.0, 'FGA': 21.0, 'FG_PCT': 0.429, 'FG3M': 1.0, 'FG3A': 4.0, 'FG3_PCT': 0.25, 'FTM': 4.0, 'FTA': 5.0, 'FT_PCT': 0.8, 'OREB': 2.0, 'DREB': 8.0, 'REB': 10.0, 'AST': 2.0, 'STL': 1.0, 'BLK': 2.0, 'TO': 5.0, 'PF': 3.0, 'PTS': 23.0, 'PLUS_MINUS': -8.0}]"
        ],
        [
         "3",
         "0021800001",
         "1628365",
         "1610612755",
         "[{'MIN': '24.000000:20', 'FGM': 2.0, 'FGA': 7.0, 'FG_PCT': 0.286, 'FG3M': 0.0, 'FG3A': 0.0, 'FG3_PCT': 0.0, 'FTM': 1.0, 'FTA': 2.0, 'FT_PCT': 0.5, 'OREB': 0.0, 'DREB': 3.0, 'REB': 3.0, 'AST': 2.0, 'STL': 1.0, 'BLK': 0.0, 'TO': 3.0, 'PF': 1.0, 'PTS': 5.0, 'PLUS_MINUS': -16.0}]"
        ],
        [
         "4",
         "0021800001",
         "1627732",
         "1610612755",
         "[{'MIN': '42.000000:44', 'FGM': 7.0, 'FGA': 14.0, 'FG_PCT': 0.5, 'FG3M': 0.0, 'FG3A': 0.0, 'FG3_PCT': 0.0, 'FTM': 5.0, 'FTA': 10.0, 'FT_PCT': 0.5, 'OREB': 3.0, 'DREB': 12.0, 'REB': 15.0, 'AST': 8.0, 'STL': 4.0, 'BLK': 2.0, 'TO': 3.0, 'PF': 5.0, 'PTS': 19.0, 'PLUS_MINUS': -8.0}]"
        ]
       ],
       "shape": {
        "columns": 4,
        "rows": 5
       }
      },
      "text/html": [
       "<div>\n",
       "<style scoped>\n",
       "    .dataframe tbody tr th:only-of-type {\n",
       "        vertical-align: middle;\n",
       "    }\n",
       "\n",
       "    .dataframe tbody tr th {\n",
       "        vertical-align: top;\n",
       "    }\n",
       "\n",
       "    .dataframe thead th {\n",
       "        text-align: right;\n",
       "    }\n",
       "</style>\n",
       "<table border=\"1\" class=\"dataframe\">\n",
       "  <thead>\n",
       "    <tr style=\"text-align: right;\">\n",
       "      <th></th>\n",
       "      <th>game_id</th>\n",
       "      <th>player_id</th>\n",
       "      <th>team_id</th>\n",
       "      <th>player_game_stats</th>\n",
       "    </tr>\n",
       "  </thead>\n",
       "  <tbody>\n",
       "    <tr>\n",
       "      <th>0</th>\n",
       "      <td>0021800001</td>\n",
       "      <td>203967</td>\n",
       "      <td>1610612755</td>\n",
       "      <td>[{'MIN': '22.000000:54', 'FGM': 3.0, 'FGA': 8....</td>\n",
       "    </tr>\n",
       "    <tr>\n",
       "      <th>1</th>\n",
       "      <td>0021800001</td>\n",
       "      <td>203496</td>\n",
       "      <td>1610612755</td>\n",
       "      <td>[{'MIN': '34.000000:13', 'FGM': 3.0, 'FGA': 10...</td>\n",
       "    </tr>\n",
       "    <tr>\n",
       "      <th>2</th>\n",
       "      <td>0021800001</td>\n",
       "      <td>203954</td>\n",
       "      <td>1610612755</td>\n",
       "      <td>[{'MIN': '36.000000:49', 'FGM': 9.0, 'FGA': 21...</td>\n",
       "    </tr>\n",
       "    <tr>\n",
       "      <th>3</th>\n",
       "      <td>0021800001</td>\n",
       "      <td>1628365</td>\n",
       "      <td>1610612755</td>\n",
       "      <td>[{'MIN': '24.000000:20', 'FGM': 2.0, 'FGA': 7....</td>\n",
       "    </tr>\n",
       "    <tr>\n",
       "      <th>4</th>\n",
       "      <td>0021800001</td>\n",
       "      <td>1627732</td>\n",
       "      <td>1610612755</td>\n",
       "      <td>[{'MIN': '42.000000:44', 'FGM': 7.0, 'FGA': 14...</td>\n",
       "    </tr>\n",
       "  </tbody>\n",
       "</table>\n",
       "</div>"
      ],
      "text/plain": [
       "      game_id  player_id     team_id  \\\n",
       "0  0021800001     203967  1610612755   \n",
       "1  0021800001     203496  1610612755   \n",
       "2  0021800001     203954  1610612755   \n",
       "3  0021800001    1628365  1610612755   \n",
       "4  0021800001    1627732  1610612755   \n",
       "\n",
       "                                   player_game_stats  \n",
       "0  [{'MIN': '22.000000:54', 'FGM': 3.0, 'FGA': 8....  \n",
       "1  [{'MIN': '34.000000:13', 'FGM': 3.0, 'FGA': 10...  \n",
       "2  [{'MIN': '36.000000:49', 'FGM': 9.0, 'FGA': 21...  \n",
       "3  [{'MIN': '24.000000:20', 'FGM': 2.0, 'FGA': 7....  \n",
       "4  [{'MIN': '42.000000:44', 'FGM': 7.0, 'FGA': 14...  "
      ]
     },
     "execution_count": 15,
     "metadata": {},
     "output_type": "execute_result"
    }
   ],
   "source": [
    "import pandas as pd\n",
    "import json\n",
    "\n",
    "df = pd.read_csv(\"player_game_stats-full.csv\", dtype={\"game_id\": str})\n",
    "df.head()"
   ]
  },
  {
   "cell_type": "code",
   "execution_count": 16,
   "metadata": {},
   "outputs": [
    {
     "data": {
      "text/plain": [
       "[\"[{'MIN': '22.000000:54', 'FGM': 3.0, 'FGA': 8.0, 'FG_PCT': 0.375, 'FG3M': 0.0, 'FG3A': 4.0, 'FG3_PCT': 0.0, 'FTM': 0.0, 'FTA': 0.0, 'FT_PCT': 0.0, 'OREB': 0.0, 'DREB': 6.0, 'REB': 6.0, 'AST': 1.0, 'STL': 0.0, 'BLK': 0.0, 'TO': 3.0, 'PF': 5.0, 'PTS': 6.0, 'PLUS_MINUS': -4.0}]\",\n",
       " \"[{'MIN': '34.000000:13', 'FGM': 3.0, 'FGA': 10.0, 'FG_PCT': 0.3, 'FG3M': 2.0, 'FG3A': 7.0, 'FG3_PCT': 0.286, 'FTM': 0.0, 'FTA': 0.0, 'FT_PCT': 0.0, 'OREB': 1.0, 'DREB': 5.0, 'REB': 6.0, 'AST': 0.0, 'STL': 2.0, 'BLK': 1.0, 'TO': 2.0, 'PF': 1.0, 'PTS': 8.0, 'PLUS_MINUS': -11.0}]\",\n",
       " \"[{'MIN': '36.000000:49', 'FGM': 9.0, 'FGA': 21.0, 'FG_PCT': 0.429, 'FG3M': 1.0, 'FG3A': 4.0, 'FG3_PCT': 0.25, 'FTM': 4.0, 'FTA': 5.0, 'FT_PCT': 0.8, 'OREB': 2.0, 'DREB': 8.0, 'REB': 10.0, 'AST': 2.0, 'STL': 1.0, 'BLK': 2.0, 'TO': 5.0, 'PF': 3.0, 'PTS': 23.0, 'PLUS_MINUS': -8.0}]\",\n",
       " \"[{'MIN': '24.000000:20', 'FGM': 2.0, 'FGA': 7.0, 'FG_PCT': 0.286, 'FG3M': 0.0, 'FG3A': 0.0, 'FG3_PCT': 0.0, 'FTM': 1.0, 'FTA': 2.0, 'FT_PCT': 0.5, 'OREB': 0.0, 'DREB': 3.0, 'REB': 3.0, 'AST': 2.0, 'STL': 1.0, 'BLK': 0.0, 'TO': 3.0, 'PF': 1.0, 'PTS': 5.0, 'PLUS_MINUS': -16.0}]\",\n",
       " \"[{'MIN': '42.000000:44', 'FGM': 7.0, 'FGA': 14.0, 'FG_PCT': 0.5, 'FG3M': 0.0, 'FG3A': 0.0, 'FG3_PCT': 0.0, 'FTM': 5.0, 'FTA': 10.0, 'FT_PCT': 0.5, 'OREB': 3.0, 'DREB': 12.0, 'REB': 15.0, 'AST': 8.0, 'STL': 4.0, 'BLK': 2.0, 'TO': 3.0, 'PF': 5.0, 'PTS': 19.0, 'PLUS_MINUS': -8.0}]\"]"
      ]
     },
     "execution_count": 16,
     "metadata": {},
     "output_type": "execute_result"
    }
   ],
   "source": [
    "stats_list = df[\"player_game_stats\"].to_list()\n",
    "stats_list[:5]"
   ]
  },
  {
   "cell_type": "code",
   "execution_count": 17,
   "metadata": {},
   "outputs": [],
   "source": [
    "jsons = []\n",
    "\n",
    "for stat in stats_list:\n",
    "    #Convert to dict, first converting nans to None\n",
    "    stat = stat.replace(\"nan\", \"None\")\n",
    "    stat_dict = eval(stat[1:-1])\n",
    "    #print(stat_dict)\n",
    "\n",
    "    #Convert to json str\n",
    "    stat_dict = json.dumps(stat_dict)\n",
    "\n",
    "    jsons.append(stat_dict)\n",
    "\n",
    "    #print(stat_dict)"
   ]
  },
  {
   "cell_type": "code",
   "execution_count": 18,
   "metadata": {},
   "outputs": [],
   "source": [
    "df = df.drop(columns=[\"player_game_stats\"])\n",
    "df[\"player_game_stats\"] = jsons"
   ]
  },
  {
   "cell_type": "code",
   "execution_count": 19,
   "metadata": {},
   "outputs": [],
   "source": [
    "df.to_csv(\"player_game_stats-full-fixed.csv\", index=False)"
   ]
  },
  {
   "cell_type": "code",
   "execution_count": 20,
   "metadata": {},
   "outputs": [],
   "source": [
    "df = pd.read_csv(\"player_game_stats-full-fixed.csv\", dtype={\"game_id\": str})"
   ]
  },
  {
   "cell_type": "code",
   "execution_count": 21,
   "metadata": {},
   "outputs": [
    {
     "name": "stdout",
     "output_type": "stream",
     "text": [
      "{\"MIN\": \"22.000000:54\", \"FGM\": 3.0, \"FGA\": 8.0, \"FG_PCT\": 0.375, \"FG3M\": 0.0, \"FG3A\": 4.0, \"FG3_PCT\": 0.0, \"FTM\": 0.0, \"FTA\": 0.0, \"FT_PCT\": 0.0, \"OREB\": 0.0, \"DREB\": 6.0, \"REB\": 6.0, \"AST\": 1.0, \"STL\": 0.0, \"BLK\": 0.0, \"TO\": 3.0, \"PF\": 5.0, \"PTS\": 6.0, \"PLUS_MINUS\": -4.0}\n",
      "{\"MIN\": \"34.000000:13\", \"FGM\": 3.0, \"FGA\": 10.0, \"FG_PCT\": 0.3, \"FG3M\": 2.0, \"FG3A\": 7.0, \"FG3_PCT\": 0.286, \"FTM\": 0.0, \"FTA\": 0.0, \"FT_PCT\": 0.0, \"OREB\": 1.0, \"DREB\": 5.0, \"REB\": 6.0, \"AST\": 0.0, \"STL\": 2.0, \"BLK\": 1.0, \"TO\": 2.0, \"PF\": 1.0, \"PTS\": 8.0, \"PLUS_MINUS\": -11.0}\n",
      "{\"MIN\": \"36.000000:49\", \"FGM\": 9.0, \"FGA\": 21.0, \"FG_PCT\": 0.429, \"FG3M\": 1.0, \"FG3A\": 4.0, \"FG3_PCT\": 0.25, \"FTM\": 4.0, \"FTA\": 5.0, \"FT_PCT\": 0.8, \"OREB\": 2.0, \"DREB\": 8.0, \"REB\": 10.0, \"AST\": 2.0, \"STL\": 1.0, \"BLK\": 2.0, \"TO\": 5.0, \"PF\": 3.0, \"PTS\": 23.0, \"PLUS_MINUS\": -8.0}\n",
      "{\"MIN\": \"24.000000:20\", \"FGM\": 2.0, \"FGA\": 7.0, \"FG_PCT\": 0.286, \"FG3M\": 0.0, \"FG3A\": 0.0, \"FG3_PCT\": 0.0, \"FTM\": 1.0, \"FTA\": 2.0, \"FT_PCT\": 0.5, \"OREB\": 0.0, \"DREB\": 3.0, \"REB\": 3.0, \"AST\": 2.0, \"STL\": 1.0, \"BLK\": 0.0, \"TO\": 3.0, \"PF\": 1.0, \"PTS\": 5.0, \"PLUS_MINUS\": -16.0}\n",
      "{\"MIN\": \"42.000000:44\", \"FGM\": 7.0, \"FGA\": 14.0, \"FG_PCT\": 0.5, \"FG3M\": 0.0, \"FG3A\": 0.0, \"FG3_PCT\": 0.0, \"FTM\": 5.0, \"FTA\": 10.0, \"FT_PCT\": 0.5, \"OREB\": 3.0, \"DREB\": 12.0, \"REB\": 15.0, \"AST\": 8.0, \"STL\": 4.0, \"BLK\": 2.0, \"TO\": 3.0, \"PF\": 5.0, \"PTS\": 19.0, \"PLUS_MINUS\": -8.0}\n"
     ]
    }
   ],
   "source": [
    "for i, row in df.head().iterrows():\n",
    "    print(row[\"player_game_stats\"])"
   ]
  }
 ],
 "metadata": {
  "kernelspec": {
   "display_name": "oracle",
   "language": "python",
   "name": "python3"
  },
  "language_info": {
   "codemirror_mode": {
    "name": "ipython",
    "version": 3
   },
   "file_extension": ".py",
   "mimetype": "text/x-python",
   "name": "python",
   "nbconvert_exporter": "python",
   "pygments_lexer": "ipython3",
   "version": "3.12.7"
  }
 },
 "nbformat": 4,
 "nbformat_minor": 2
}
